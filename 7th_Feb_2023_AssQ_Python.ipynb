{
 "cells": [
  {
   "cell_type": "raw",
   "id": "f85b907e-2fd8-418a-aa70-1d5db2ecec28",
   "metadata": {},
   "source": [
    "#### Q1. You are writing code for a company. The requirement of the company is that you create a python\n",
    "# function that will check whether the password entered by the user is correct or not. The function should\n",
    "# take the password as input and return the string “Valid Password” if the entered password follows the\n",
    "# below-given password guidelines else it should return “Invalid Password”.\n",
    "# Note: 1. The Password should contain at least two uppercase letters and at least two lowercase letters.\n",
    "# 2. The Password should contain at least a number and three special characters.\n",
    "# 3. The length of the password should be 10 characters long."
   ]
  },
  {
   "cell_type": "code",
   "execution_count": 10,
   "id": "2161bf11-c72d-4f36-89be-aea25b4e9778",
   "metadata": {},
   "outputs": [
    {
     "name": "stdin",
     "output_type": "stream",
     "text": [
      "Enter Password :  AAuu3#$%33\n"
     ]
    },
    {
     "name": "stdout",
     "output_type": "stream",
     "text": [
      "Valid Password\n"
     ]
    }
   ],
   "source": [
    "def check_password(password):\n",
    "    if len(password) != 10:\n",
    "        return \"Invalid Password\"\n",
    "    countr1,countr2,countr3,countr4 = 0, 0, 0, 0\n",
    "    for i in password:\n",
    "        if not i.isdigit():\n",
    "            if i.isupper(): \n",
    "                countr1 +=1\n",
    "            if i.islower():\n",
    "                countr2 +=1\n",
    "        if i.isdigit():\n",
    "            countr3 +=1\n",
    "        if not i.isalnum():\n",
    "            countr4 +=1\n",
    "            \n",
    "    if countr1 >= 2 and countr2 >= 2 and countr3 >=1 and countr4 == 3:\n",
    "        return \"Valid Password\"\n",
    "    else:\n",
    "        return \"Invalid Password\"\n",
    "    \n",
    "password = str(input(\"Enter Password : \"))\n",
    "check = check_password(password)\n",
    "print(check)"
   ]
  },
  {
   "cell_type": "code",
   "execution_count": 12,
   "id": "fce711a8-4c0d-4ae7-b4c2-6f8db6c4aaca",
   "metadata": {},
   "outputs": [],
   "source": [
    "# Q2. Solve the below-given questions using at least one of the following:\n",
    "#\n",
    "# 1. Lambda function.\n",
    "# 2. Filter function.\n",
    "# 3. Map function.\n",
    "# 4. List Comprehension.\n",
    "#\n",
    "# a. Check if the string starts with a particular letter.\n",
    "# b. Check if the string is numeric.\n",
    "# c. Sort a list of tuples having fruit names and their quantity. [(\"mango\",99),(\"orange\",80), (\"grapes\", 1000)]\n",
    "# d. Find the squares of numbers from 1 to 10.\n",
    "# e. Find the cube root of numbers from 1 to 10.\n",
    "# f. Check if a given number is even.\n",
    "# g. Filter odd numbers from the given list.\n",
    "#    [1,2,3,4,5,6,7,8,9,10]\n",
    "# h. Sort a list of integers into positive and negative integers lists.\n",
    "#    [1,2,3,4,5,6,-1,-2,-3,-4,-5,0]"
   ]
  },
  {
   "cell_type": "code",
   "execution_count": 15,
   "id": "9022c7b7-bebb-4132-93b9-4f53e0438306",
   "metadata": {},
   "outputs": [
    {
     "name": "stdout",
     "output_type": "stream",
     "text": [
      "True\n",
      "False\n"
     ]
    }
   ],
   "source": [
    "# a. Check if the string starts with the letter \"m\".\n",
    "starts_with_m = lambda s : s.startswith(\"m\")\n",
    "str_1 = \"man\"\n",
    "str_2 = \"toy\"\n",
    "print(starts_with_m(str_1))\n",
    "print(starts_with_m(str_2))"
   ]
  },
  {
   "cell_type": "code",
   "execution_count": 18,
   "id": "89aeee3d-d6c8-4037-ba79-a91645fb553c",
   "metadata": {},
   "outputs": [
    {
     "name": "stdout",
     "output_type": "stream",
     "text": [
      "True\n",
      "False\n"
     ]
    }
   ],
   "source": [
    "# b. Check if the string is numeric.\n",
    "string_is_numeric = lambda s : s.isdigit()\n",
    "str_1 = \"12345\"\n",
    "str_2 = \"1n3h6h\"\n",
    "print(string_is_numeric(str_1))\n",
    "print(string_is_numeric(str_2))"
   ]
  },
  {
   "cell_type": "code",
   "execution_count": 21,
   "id": "621004a1-7524-46fa-8097-d850eeb782ea",
   "metadata": {},
   "outputs": [
    {
     "name": "stdout",
     "output_type": "stream",
     "text": [
      "[('grapes', 1000), ('mango', 99), ('orange', 80)]\n"
     ]
    }
   ],
   "source": [
    "# c. Sort a list of tuples having fruit names and their quantity. [(\"mango\",99),(\"orange\",80), (\"grapes\", 1000)]\n",
    "lst_sorted = lambda lst : sorted(lst)\n",
    "\n",
    "lst1 = [(\"mango\",99),(\"orange\",80), (\"grapes\", 1000)]\n",
    "\n",
    "print(lst_sorted(lst1))"
   ]
  },
  {
   "cell_type": "code",
   "execution_count": 29,
   "id": "95298439-d958-4ced-aafb-d446c396c5e0",
   "metadata": {},
   "outputs": [
    {
     "name": "stdout",
     "output_type": "stream",
     "text": [
      "[1, 4, 9, 16, 25, 36, 49, 64, 81, 100]\n"
     ]
    }
   ],
   "source": [
    "# d. Find the squares of numbers from 1 to 10.\n",
    "list1 = [1,2,3,4,5,6,7,8,9,10]\n",
    "result = list(map(lambda x : x**2, list1))\n",
    "print(result)"
   ]
  },
  {
   "cell_type": "code",
   "execution_count": 33,
   "id": "8dc6f92e-6fca-42c1-babe-7ab94d579ca6",
   "metadata": {},
   "outputs": [
    {
     "name": "stdout",
     "output_type": "stream",
     "text": [
      "[0.3333333333333333, 0.6666666666666666, 1.0, 1.3333333333333333, 1.6666666666666667, 2.0, 2.3333333333333335, 2.6666666666666665, 3.0, 3.3333333333333335]\n"
     ]
    }
   ],
   "source": [
    "# e. Find the cube root of numbers from 1 to 10.\n",
    "def func():\n",
    "    lst = []\n",
    "    for i in range(1,11):\n",
    "        lst.append(i)\n",
    "    return lst\n",
    "lst = func()\n",
    "result = list(map(lambda x : x ** 1/3, lst))\n",
    "print(result)"
   ]
  },
  {
   "cell_type": "code",
   "execution_count": 40,
   "id": "c8344e34-c594-4d2b-89a0-c66a21632506",
   "metadata": {},
   "outputs": [
    {
     "name": "stdin",
     "output_type": "stream",
     "text": [
      "Enter a number :  923\n"
     ]
    },
    {
     "name": "stdout",
     "output_type": "stream",
     "text": [
      "Odd\n"
     ]
    }
   ],
   "source": [
    "# f. Check if a given number is even.\n",
    "n = int(input(\"Enter a number : \"))\n",
    "is_even = lambda n : \"Even\" if n%2 == 0 else \"Odd\"\n",
    "print(is_even(n))\n"
   ]
  },
  {
   "cell_type": "code",
   "execution_count": 47,
   "id": "b06df58e-e6bd-4f4c-a497-e870d724b857",
   "metadata": {},
   "outputs": [
    {
     "name": "stdout",
     "output_type": "stream",
     "text": [
      "[1, 3, 5, 7, 9]\n"
     ]
    }
   ],
   "source": [
    "# g. Filter odd numbers from the given list. [1,2,3,4,5,6,7,8,9,10]\n",
    "lst =  [1,2,3,4,5,6,7,8,9,10]\n",
    "odd_list = list(filter(lambda x : x%2 == 1, lst))\n",
    "print(odd_list)"
   ]
  },
  {
   "cell_type": "code",
   "execution_count": 52,
   "id": "fae26a25-4cd5-4dd3-bc00-536da188fa72",
   "metadata": {},
   "outputs": [
    {
     "name": "stdout",
     "output_type": "stream",
     "text": [
      "[1, 2, 3, 4, 5, 6]\n",
      "[-5, -4, -3, -2, -1, 0]\n"
     ]
    }
   ],
   "source": [
    "# h. Sort a list of integers into positive and negative integers lists.[1,2,3,4,5,6,-1,-2,-3,-4,-5,0]\n",
    "lst = [1,2,3,4,5,6,-1,-2,-3,-4,-5,0]\n",
    "positive_int_list = list(filter(lambda x : x>=1, lst))\n",
    "negative_int_list = list(filter(lambda x : x<1, lst))\n",
    "print(positive_int_list)\n",
    "print(sorted(negative_int_list))"
   ]
  },
  {
   "cell_type": "code",
   "execution_count": null,
   "id": "d92f9ec6-4d59-4959-baee-d743f3dd2340",
   "metadata": {},
   "outputs": [],
   "source": []
  }
 ],
 "metadata": {
  "kernelspec": {
   "display_name": "Python 3 (ipykernel)",
   "language": "python",
   "name": "python3"
  },
  "language_info": {
   "codemirror_mode": {
    "name": "ipython",
    "version": 3
   },
   "file_extension": ".py",
   "mimetype": "text/x-python",
   "name": "python",
   "nbconvert_exporter": "python",
   "pygments_lexer": "ipython3",
   "version": "3.10.8"
  }
 },
 "nbformat": 4,
 "nbformat_minor": 5
}
